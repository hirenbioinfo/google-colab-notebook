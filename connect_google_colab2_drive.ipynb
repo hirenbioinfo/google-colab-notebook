{
  "nbformat": 4,
  "nbformat_minor": 0,
  "metadata": {
    "colab": {
      "private_outputs": true,
      "provenance": [],
      "authorship_tag": "ABX9TyNUJqX2rFI6hsSClghE6knc",
      "include_colab_link": true
    },
    "kernelspec": {
      "name": "python3",
      "display_name": "Python 3"
    },
    "language_info": {
      "name": "python"
    }
  },
  "cells": [
    {
      "cell_type": "markdown",
      "metadata": {
        "id": "view-in-github",
        "colab_type": "text"
      },
      "source": [
        "<a href=\"https://colab.research.google.com/github/hirenbioinfo/google-colab-notebook/blob/main/connect_google_colab2_drive.ipynb\" target=\"_parent\"><img src=\"https://colab.research.google.com/assets/colab-badge.svg\" alt=\"Open In Colab\"/></a>"
      ]
    },
    {
      "cell_type": "markdown",
      "source": [
        "# How to connect Google Drive to Google Colab\n",
        "\n",
        "---\n",
        "#### Author: Hiren Ghosh\n",
        "---\n",
        "\n",
        "### Steps:\n",
        "\n",
        "1. Open a new Google Colab notebook.\n",
        "\n",
        "2. Click on the \"Mount Drive\" icon on the left sidebar or run the following code cell:\n",
        "\n",
        "   ```python\n",
        "   from google.colab import drive\n",
        "   drive.mount('/content/drive')\n",
        "\n",
        "3. Read some example files from google drive\n",
        "\n",
        "4. Plot some example plots\n"
      ],
      "metadata": {
        "id": "oJSgQdqAMlW5"
      }
    },
    {
      "cell_type": "code",
      "execution_count": null,
      "metadata": {
        "id": "Opq4KaIz5h58"
      },
      "outputs": [],
      "source": [
        "# import libraries\n",
        "!cat /proc/meminfo  | egrep \"MemTotal\"\n",
        "import pandas as pd\n",
        "import seaborn  as  sns\n",
        "import matplotlib.pyplot as plt\n"
      ]
    },
    {
      "cell_type": "code",
      "source": [
        "# read file from google drive\n",
        "# to get the file info, just right click on the file and get the link\n",
        "path=\"/content/drive/MyDrive/DE_covid_09_06_2022/DE_covid_09_06_2022.csv\"\n",
        "df=pd.read_csv(path)\n",
        "df.head()\n",
        "# now data is ready to process"
      ],
      "metadata": {
        "id": "zmQrKzRP5-vq"
      },
      "execution_count": null,
      "outputs": []
    },
    {
      "cell_type": "code",
      "source": [
        "# Lets do some sample ploting\n",
        "# Count the occurrences of each Pango.lineage\n",
        "top_lineages = df['Pango.lineage'].value_counts().head(5)\n",
        "\n",
        "# Plot the top lineages\n",
        "plt.bar(top_lineages.index, top_lineages.values)\n",
        "plt.xlabel('Pango.lineage')\n",
        "plt.ylabel('Count')\n",
        "plt.title('Top 5 Pango.lineage')\n",
        "plt.show()"
      ],
      "metadata": {
        "id": "UbvD3eS6P6dy"
      },
      "execution_count": null,
      "outputs": []
    },
    {
      "cell_type": "code",
      "source": [],
      "metadata": {
        "id": "5EE42_sUP6Lg"
      },
      "execution_count": null,
      "outputs": []
    },
    {
      "cell_type": "code",
      "source": [
        "file=!wget https://cdn.kernel.org/pub/linux/kernel/v4.x/linux-4.17.2.tar.xz"
      ],
      "metadata": {
        "id": "ptwBReNb9H8u"
      },
      "execution_count": null,
      "outputs": []
    },
    {
      "cell_type": "code",
      "source": [
        "! touch new_file.txt"
      ],
      "metadata": {
        "id": "AHaBxvUQAHda"
      },
      "execution_count": null,
      "outputs": []
    },
    {
      "cell_type": "code",
      "source": [
        "from google.colab import files"
      ],
      "metadata": {
        "id": "li9XXVxJAkAQ"
      },
      "execution_count": null,
      "outputs": []
    },
    {
      "cell_type": "code",
      "source": [
        "files"
      ],
      "metadata": {
        "id": "bX8WbGZ1Avov"
      },
      "execution_count": null,
      "outputs": []
    },
    {
      "cell_type": "code",
      "source": [
        "import shutil\n",
        "\n",
        "# Define the source and destination paths\n",
        "source_file_path = '/content/new_file.txt'  # Path to the file in Google Colab\n",
        "destination_folder_path = '/content/drive/MyDrive/Coreugate'  # Destination folder in Google Drive\n",
        "\n",
        "# Copy the file to Google Drive\n",
        "shutil.copy(source_file_path, destination_folder_path)\n"
      ],
      "metadata": {
        "id": "yUm_8v66A4XF"
      },
      "execution_count": null,
      "outputs": []
    },
    {
      "cell_type": "code",
      "source": [
        "import time\n",
        "import os\n",
        "import shutil\n",
        "\n",
        "# Specify the base file name and folder paths\n",
        "base_file_name = 'test'\n",
        "source_folder_path = '/content/drive/MyDrive/NewFiles'\n",
        "destination_folder_path = '/content/drive/MyDrive/GIFs'\n",
        "\n",
        "# Specify the time interval in seconds\n",
        "time_interval = 120  # 2 minutes\n",
        "\n",
        "# Initialize the file counter\n",
        "file_counter = 1\n",
        "\n",
        "while True:\n",
        "    # Create the file name with the counter\n",
        "    file_name = f\"{base_file_name}{file_counter}.txt\"\n",
        "    \n",
        "    # Create the source and destination file paths\n",
        "    source_file_path = os.path.join(source_folder_path, file_name)\n",
        "    destination_file_path = os.path.join(destination_folder_path, file_name)\n",
        "    \n",
        "    # Create the new file\n",
        "    with open(source_file_path, 'w') as file:\n",
        "        file.write(\"This is a new file.\")\n",
        "    \n",
        "    print(f\"Created file: {source_file_path}\")\n",
        "    \n",
        "    # Copy the file to the destination folder\n",
        "    shutil.copy(source_file_path, destination_file_path)\n",
        "    print(f\"Copied file to: {destination_file_path}\")\n",
        "    \n",
        "    # Increment the file counter\n",
        "    file_counter += 1\n",
        "    \n",
        "    # Wait for the specified time interval\n",
        "    time.sleep(time_interval)\n",
        "\n"
      ],
      "metadata": {
        "id": "3w01peCoBEGm"
      },
      "execution_count": null,
      "outputs": []
    },
    {
      "cell_type": "code",
      "source": [
        "! pwd"
      ],
      "metadata": {
        "id": "T1mcLTIiGUBV"
      },
      "execution_count": null,
      "outputs": []
    },
    {
      "cell_type": "code",
      "source": [
        "cd ..\n"
      ],
      "metadata": {
        "id": "5bAIRgRBGXJG"
      },
      "execution_count": null,
      "outputs": []
    },
    {
      "cell_type": "code",
      "source": [
        "ls"
      ],
      "metadata": {
        "id": "6GqkULoLGhGo"
      },
      "execution_count": null,
      "outputs": []
    },
    {
      "cell_type": "code",
      "source": [
        "\n"
      ],
      "metadata": {
        "id": "CGwcOGicGhu-"
      },
      "execution_count": null,
      "outputs": []
    },
    {
      "cell_type": "code",
      "source": [
        "!wget -O - -q \"https://eutils.ncbi.nlm.nih.gov/entrez/eutils/efetch.fcgi?db=nucleotide&id=NZ_GG774949.1&retmode=text&rettype=fasta&seq_start=1662245&seq_stop=1662896\""
      ],
      "metadata": {
        "id": "Bc1v0d5fL7mF"
      },
      "execution_count": null,
      "outputs": []
    }
  ]
}