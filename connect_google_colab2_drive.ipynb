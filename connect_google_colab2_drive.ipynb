{
  "nbformat": 4,
  "nbformat_minor": 0,
  "metadata": {
    "colab": {
      "private_outputs": true,
      "provenance": [],
      "authorship_tag": "ABX9TyMr2IYudDhkV0b4RboNqSDV",
      "include_colab_link": true
    },
    "kernelspec": {
      "name": "python3",
      "display_name": "Python 3"
    },
    "language_info": {
      "name": "python"
    }
  },
  "cells": [
    {
      "cell_type": "markdown",
      "metadata": {
        "id": "view-in-github",
        "colab_type": "text"
      },
      "source": [
        "<a href=\"https://colab.research.google.com/github/hirenbioinfo/google-colab-notebook/blob/main/connect_google_colab2_drive.ipynb\" target=\"_parent\"><img src=\"https://colab.research.google.com/assets/colab-badge.svg\" alt=\"Open In Colab\"/></a>"
      ]
    },
    {
      "cell_type": "markdown",
      "source": [
        "# How to connect Google Drive to Google Colab\n",
        "\n",
        "---\n",
        "#### Author: Hiren Ghosh\n",
        "---\n",
        "\n",
        "### Steps:\n",
        "\n",
        "1. Open a new Google Colab notebook.\n",
        "\n",
        "2. Click on the \"Mount Drive\" icon on the left sidebar or run the following code cell:\n",
        "\n",
        "   ```python\n",
        "   from google.colab import drive\n",
        "   drive.mount('/content/drive')\n",
        "\n",
        "3. Read some example files from google drive\n",
        "\n",
        "4. Plot some example plots\n"
      ],
      "metadata": {
        "id": "oJSgQdqAMlW5"
      }
    },
    {
      "cell_type": "code",
      "execution_count": null,
      "metadata": {
        "id": "Opq4KaIz5h58"
      },
      "outputs": [],
      "source": [
        "# import libraries\n",
        "!cat /proc/meminfo  | egrep \"MemTotal\"\n",
        "import pandas as pd\n",
        "import seaborn  as  sns\n",
        "import matplotlib.pyplot as plt\n"
      ]
    },
    {
      "cell_type": "code",
      "source": [
        "# read file from google drive\n",
        "# to get the file info, just right click on the file and get the link\n",
        "path=\"/content/drive/MyDrive/DE_covid_09_06_2022/DE_covid_09_06_2022.csv\"\n",
        "df=pd.read_csv(path)\n",
        "df.head()\n",
        "# now data is ready to process"
      ],
      "metadata": {
        "id": "zmQrKzRP5-vq"
      },
      "execution_count": null,
      "outputs": []
    },
    {
      "cell_type": "code",
      "source": [
        "# Lets do some sample ploting\n",
        "# Count the occurrences of each Pango.lineage\n",
        "top_lineages = df['Pango.lineage'].value_counts().head(5)\n",
        "\n",
        "# Plot the top lineages\n",
        "plt.bar(top_lineages.index, top_lineages.values)\n",
        "plt.xlabel('Pango.lineage')\n",
        "plt.ylabel('Count')\n",
        "plt.title('Top 5 Pango.lineage')\n",
        "plt.show()"
      ],
      "metadata": {
        "id": "UbvD3eS6P6dy"
      },
      "execution_count": null,
      "outputs": []
    },
    {
      "cell_type": "code",
      "source": [],
      "metadata": {
        "id": "5EE42_sUP6Lg"
      },
      "execution_count": null,
      "outputs": []
    },
    {
      "cell_type": "markdown",
      "source": [
        "### Copy file one location to another "
      ],
      "metadata": {
        "id": "gNjrvmfNR_C8"
      }
    },
    {
      "cell_type": "markdown",
      "source": [],
      "metadata": {
        "id": "0pSA_SQXR76W"
      }
    },
    {
      "cell_type": "markdown",
      "source": [],
      "metadata": {
        "id": "-hUX9byBRwM3"
      }
    },
    {
      "cell_type": "code",
      "source": [
        "# create the file\n",
        "! touch new_file.txt"
      ],
      "metadata": {
        "id": "AHaBxvUQAHda"
      },
      "execution_count": null,
      "outputs": []
    },
    {
      "cell_type": "code",
      "source": [
        "from google.colab import files\n",
        "import shutil\n",
        "source_file = '/content/drive/MyDrive/content/new_file.txt'\n",
        "destination_file = '/content/drive/MyDrive/new_file.txt'\n",
        "\n",
        "shutil.copyfile(source_file, destination_file)\n"
      ],
      "metadata": {
        "id": "li9XXVxJAkAQ"
      },
      "execution_count": null,
      "outputs": []
    },
    {
      "cell_type": "code",
      "source": [],
      "metadata": {
        "id": "IzZXYoK_TJ6u"
      },
      "execution_count": null,
      "outputs": []
    },
    {
      "cell_type": "markdown",
      "source": [
        "## Download some file on google drive "
      ],
      "metadata": {
        "id": "CUiGYLgpTLjX"
      }
    },
    {
      "cell_type": "code",
      "source": [
        "!wget -O - -q \"https://eutils.ncbi.nlm.nih.gov/entrez/eutils/efetch.fcgi?db=nucleotide&id=NZ_GG774949.1&retmode=text&rettype=fasta&seq_start=1662245&seq_stop=1662896\""
      ],
      "metadata": {
        "id": "Bc1v0d5fL7mF"
      },
      "execution_count": null,
      "outputs": []
    }
  ]
}